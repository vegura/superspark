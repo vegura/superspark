{
 "cells": [
  {
   "cell_type": "code",
   "execution_count": 1,
   "id": "09621dd1",
   "metadata": {},
   "outputs": [],
   "source": [
    "from time import time\n",
    "from datetime import datetime\n",
    "\n",
    "from pyspark.sql import SparkSession\n",
    "from pyspark.sql import types as T, functions as F\n",
    "\n",
    "import pandas as pd"
   ]
  },
  {
   "cell_type": "markdown",
   "id": "008fdccf",
   "metadata": {},
   "source": [
    "### Settings"
   ]
  },
  {
   "cell_type": "code",
   "execution_count": 2,
   "id": "7b7600d3",
   "metadata": {},
   "outputs": [],
   "source": [
    "LONDON_DIR = \"./lab/London postcodes.csv\"\n",
    "NAMES = [\"James\", \"Mary\", \"Robert\", \"Patricia\", \"John\", \"Jennifer\", \"Michael\", \"Linda\", \"William\", \"Elizabeth\", \"David\", \"Barbara\", \"Richard\", \"Susan\", \"Joseph\", \"Jessica\", \"Thomas\", \"Sarah\", \"Charles\", \"Karen\", \"Christopher\", \"Nancy\", \"Daniel\", \"Lisa\", \"Matthew\", \"Betty\", \"Anthony\", \"Margaret\", \"Mark\", \"Sandra\", \"Donald\", \"Ashley\", \"Steven\", \"Kimberly\", \"Paul\", \"Emily\", \"Andrew\", \"Donna\", \"Joshua\", \"Michelle\", \"Kenneth\", \"Dorothy\", \"Kevin\", \"Carol\", \"Brian\", \"Amanda\", \"George\", \"Melissa\", \"Edward\", \"Deborah\", \"Ronald\", \"Stephanie\", \"Timothy\", \"Rebecca\", \"Jason\", \"Sharon\", \"Jeffrey\", \"Laura\", \"Ryan\", \"Cynthia\", \"Jacob\", \"Kathleen\", \"Gary\", \"Amy\", \"Nicholas\", \"Shirley\", \"Eric\", \"Angela\", \"Jonathan\", \"Helen\", \"Stephen\", \"Anna\", \"Larry\", \"Brenda\", \"Justin\", \"Pamela\", \"Scott\", \"Nicole\", \"Brandon\", \"Emma\", \"Benjamin\", \"Samantha\", \"Samuel\", \"Katherine\", \"Gregory\", \"Christine\", \"Frank\", \"Debra\", \"Alexander\", \"Rachel\", \"Raymond\", \"Catherine\", \"Patrick\", \"Carolyn\", \"Jack\", \"Janet\", \"Dennis\", \"Ruth\", \"Jerry\", \"Maria\", \"Tyler\", \"Heather\", \"Aaron\", \"Diane\", \"Jose\", \"Virginia\", \"Adam\", \"Julie\", \"Henry\", \"Joyce\", \"Nathan\", \"Victoria\", \"Douglas\", \"Olivia\", \"Zachary\", \"Kelly\", \"Peter\", \"Christina\", \"Kyle\", \"Lauren\", \"Walter\", \"Joan\", \"Ethan\", \"Evelyn\", \"Jeremy\", \"Judith\", \"Harold\", \"Megan\", \"Keith\", \"Cheryl\", \"Christian\", \"Andrea\", \"Roger\", \"Hannah\", \"Noah\", \"Martha\", \"Gerald\", \"Jacqueline\", \"Carl\", \"Frances\", \"Terry\", \"Gloria\"]\n",
    "NUM_POINTS = 100\n",
    "NUM_NAMES = 100"
   ]
  },
  {
   "cell_type": "markdown",
   "id": "d2ff10e1",
   "metadata": {},
   "source": [
    "### Spark session initializing"
   ]
  },
  {
   "cell_type": "code",
   "execution_count": 3,
   "id": "c9cd58c0",
   "metadata": {},
   "outputs": [
    {
     "name": "stderr",
     "output_type": "stream",
     "text": [
      "21/11/29 16:29:32 WARN Utils: Your hostname, dragula-idepad resolves to a loopback address: 127.0.1.1; using 192.168.1.194 instead (on interface wlp2s0)\n",
      "21/11/29 16:29:32 WARN Utils: Set SPARK_LOCAL_IP if you need to bind to another address\n",
      "WARNING: An illegal reflective access operation has occurred\n",
      "WARNING: Illegal reflective access by org.apache.spark.unsafe.Platform (file:/usr/local/spark-3.2.0-bin-hadoop3.2/jars/spark-unsafe_2.12-3.2.0.jar) to constructor java.nio.DirectByteBuffer(long,int)\n",
      "WARNING: Please consider reporting this to the maintainers of org.apache.spark.unsafe.Platform\n",
      "WARNING: Use --illegal-access=warn to enable warnings of further illegal reflective access operations\n",
      "WARNING: All illegal access operations will be denied in a future release\n",
      "Using Spark's default log4j profile: org/apache/spark/log4j-defaults.properties\n",
      "Setting default log level to \"WARN\".\n",
      "To adjust logging level use sc.setLogLevel(newLevel). For SparkR, use setLogLevel(newLevel).\n",
      "21/11/29 16:29:33 WARN NativeCodeLoader: Unable to load native-hadoop library for your platform... using builtin-java classes where applicable\n"
     ]
    }
   ],
   "source": [
    "spark = SparkSession.builder.getOrCreate()"
   ]
  },
  {
   "cell_type": "markdown",
   "id": "e18bc30f",
   "metadata": {},
   "source": [
    "### Loading starting dataframe"
   ]
  },
  {
   "cell_type": "code",
   "execution_count": 4,
   "id": "03a12fe4",
   "metadata": {},
   "outputs": [
    {
     "name": "stderr",
     "output_type": "stream",
     "text": [
      "/opt/conda/lib/python3.9/site-packages/IPython/core/interactiveshell.py:3444: DtypeWarning: Columns (17) have mixed types.Specify dtype option on import or set low_memory=False.\n",
      "  exec(code_obj, self.user_global_ns, self.user_ns)\n"
     ]
    }
   ],
   "source": [
    "schema = T.StructType([T.StructField(\"Postcode\", T.StringType(), True),\n",
    "    T.StructField(\"In Use?\", T.StringType(), True),\n",
    "    T.StructField(\"Latitude\", T.DoubleType(), True),\n",
    "    T.StructField(\"Longitude\", T.DoubleType(), True),\n",
    "    T.StructField(\"Easting\", T.IntegerType(), True),\n",
    "    T.StructField(\"Northing\", T.IntegerType(), True),\n",
    "    T.StructField(\"GridRef\", T.StringType(), True),\n",
    "    T.StructField(\"CountryGB\", T.StringType(), True),\n",
    "    T.StructField(\"District\", T.StringType(), True),\n",
    "    T.StructField(\"Ward\", T.StringType(), True),\n",
    "    T.StructField(\"DistrictCode\", T.StringType(), True),\n",
    "    T.StructField(\"WardCode\", T.StringType(), True),\n",
    "    T.StructField(\"Country\", T.StringType(), True),\n",
    "    T.StructField(\"CountyCode\", T.StringType(), True),\n",
    "    T.StructField(\"Constituency\", T.StringType(), True),\n",
    "    T.StructField(\"Introduced\", T.StringType(), True),\n",
    "    T.StructField(\"Terminated\", T.StringType(), True),\n",
    "    T.StructField(\"Parish\", T.StringType(), True),\n",
    "    T.StructField(\"NationalPark\", T.StringType(), True),\n",
    "    T.StructField(\"Population\", T.StringType(), True),\n",
    "    T.StructField(\"Households\", T.StringType(), True),\n",
    "    T.StructField(\"Built up area\", T.StringType(), True),\n",
    "    T.StructField(\"Built up sub-division\", T.StringType(), True),\n",
    "    T.StructField(\"Lower layer super output area\", T.StringType(), True),\n",
    "    T.StructField(\"Rural/urban\", T.StringType(), True),\n",
    "    T.StructField(\"Region\", T.StringType(), True),\n",
    "    T.StructField(\"Altitude\", T.StringType(), True),\n",
    "    T.StructField(\"London zone\", T.StringType(), True),\n",
    "    T.StructField(\"LSOA Code\", T.StringType(), True)])\n",
    "\n",
    "pandas_df = pd.read_csv(LONDON_DIR)\n",
    "\n",
    "df_london = spark.createDataFrame(pandas_df, schema)"
   ]
  },
  {
   "cell_type": "markdown",
   "id": "e64410ea",
   "metadata": {},
   "source": [
    "### Data preprocessing"
   ]
  },
  {
   "cell_type": "code",
   "execution_count": 5,
   "id": "2be62878",
   "metadata": {},
   "outputs": [],
   "source": [
    "names_df = spark.createDataFrame([(name,) for name in (NAMES[:NUM_NAMES])], [\"name\"])\n",
    "drivers_df = names_df.filter(F.monotonically_increasing_id()%2 == 0).withColumnRenamed(\"name\", \"driver\")\n",
    "clients_df = names_df.filter(F.monotonically_increasing_id()%2 == 1).withColumnRenamed(\"name\", \"client\")\n",
    "\n",
    "points_df = df_london.select(F.col(\"Latitude\").alias(\"lat\"), F.col(\"Longitude\").alias(\"long\")).distinct()\n",
    "\n",
    "start_points = points_df.withColumnRenamed(\"lat\", \"start_lat\").withColumnRenamed(\"long\", \"start_long\")\n",
    "end_points = points_df.withColumnRenamed(\"lat\", \"end_lat\").withColumnRenamed(\"long\", \"end_long\")\n",
    "start_end_points = start_points.crossJoin(end_points).filter(F.monotonically_increasing_id() < NUM_POINTS)\n",
    "\n",
    "rides_df = drivers_df.crossJoin(clients_df).crossJoin(start_end_points)\n",
    "price_col = 1.5*((F.col(\"start_lat\") - F.col(\"end_lat\"))**2 + (F.col(\"start_long\") - F.col(\"end_long\"))**2)**0.5\n",
    "\n",
    "start_time = (time() - F.rand()*31536000).cast(T.IntegerType())\n",
    "end_time = (F.col(\"start_time\") + F.rand()*7200).cast(T.IntegerType())\n",
    "final_rides_df = rides_df \\\n",
    "    .withColumn(\"price\", price_col) \\\n",
    "    .withColumn(\"start_time\", start_time) \\\n",
    "    .withColumn(\"end_time\", F.to_timestamp(end_time)) \\\n",
    "    .withColumn(\"start_time\", F.to_timestamp(start_time)) \\\n",
    "    .withColumn(\"grade\", (F.rand()*5).cast(T.IntegerType())) \\\n",
    "    .withColumn(\"to_client_grade\", (F.rand()*5).cast(T.IntegerType())) \\\n",
    "    .withColumn(\"comment_type\", (F.rand()*2).cast(T.IntegerType())) \\\n",
    "    .withColumn(\"comment_type\", F.when(F.col(\"comment_type\") == 0, \"compliant\")\n",
    "               .otherwise(\"compliment\"))"
   ]
  },
  {
   "cell_type": "markdown",
   "id": "b9d71a3e",
   "metadata": {},
   "source": [
    "### Data example"
   ]
  },
  {
   "cell_type": "code",
   "execution_count": 7,
   "id": "b33e9033",
   "metadata": {},
   "outputs": [],
   "source": [
    "# final_rides_df.show()"
   ]
  },
  {
   "cell_type": "markdown",
   "id": "5b0008e9",
   "metadata": {},
   "source": [
    "### 1. Top 100 drivers"
   ]
  },
  {
   "cell_type": "code",
   "execution_count": 8,
   "id": "59d870e0",
   "metadata": {},
   "outputs": [
    {
     "name": "stderr",
     "output_type": "stream",
     "text": [
      "21/11/29 16:31:54 WARN TaskSetManager: Stage 8 contains a task of very large size (11334 KiB). The maximum recommended task size is 1000 KiB.\n",
      "[Stage 13:=============================================>          (13 + 3) / 16]\r"
     ]
    },
    {
     "name": "stdout",
     "output_type": "stream",
     "text": [
      "+-----------+------------------+\n",
      "|     driver|         avg_grade|\n",
      "+-----------+------------------+\n",
      "|     Nicole|          2.035625|\n",
      "|   Nicholas| 2.035416666666667|\n",
      "|    Charles|             2.035|\n",
      "|   Kimberly|2.0347916666666666|\n",
      "|   Margaret|2.0345833333333334|\n",
      "|  Catherine|2.0339583333333335|\n",
      "|      Donna|2.0327083333333333|\n",
      "|      James|             2.025|\n",
      "|     Amanda|2.0239583333333333|\n",
      "|    Matthew|2.0227083333333336|\n",
      "|     Joseph| 2.020208333333333|\n",
      "|      Carol|          2.019375|\n",
      "|  Christine|2.0191666666666666|\n",
      "|     Robert| 2.017708333333333|\n",
      "|      Maria|           2.01625|\n",
      "|      Janet|          2.015625|\n",
      "|       Emma|2.0145833333333334|\n",
      "|      Betty|2.0129166666666665|\n",
      "|       Eric|           2.01125|\n",
      "|       Gary|              2.01|\n",
      "|      Larry|              2.01|\n",
      "|   Jonathan|           2.00875|\n",
      "|     Ronald|           2.00875|\n",
      "|     Justin|2.0085416666666664|\n",
      "|      Jason|          2.004375|\n",
      "|    Stephen|          2.004375|\n",
      "|    Deborah|2.0039583333333333|\n",
      "|       Ryan|          2.003125|\n",
      "|    Timothy|2.0014583333333333|\n",
      "|       John|           2.00125|\n",
      "|    William|2.0004166666666667|\n",
      "|      Emily|1.9997916666666666|\n",
      "|     Ashley|1.9997916666666666|\n",
      "|      Jacob|1.9991666666666668|\n",
      "|      David|          1.998125|\n",
      "|      Debra|1.9979166666666666|\n",
      "|     Sandra|1.9972916666666667|\n",
      "|  Katherine|1.9966666666666666|\n",
      "|    Richard|1.9958333333333333|\n",
      "|     Daniel|1.9958333333333333|\n",
      "|    Dorothy|           1.99125|\n",
      "|   Michelle|1.9904166666666667|\n",
      "|    Melissa|1.9902083333333334|\n",
      "|    Michael|1.9889583333333334|\n",
      "|     Thomas|1.9889583333333334|\n",
      "|     Rachel|1.9829166666666667|\n",
      "|    Jeffrey|           1.98125|\n",
      "|   Samantha|          1.980625|\n",
      "|Christopher|1.9747916666666667|\n",
      "|     Pamela|1.9695833333333332|\n",
      "|    Carolyn|1.9635416666666667|\n",
      "|       Ruth|1.9608333333333334|\n",
      "+-----------+------------------+\n",
      "\n"
     ]
    },
    {
     "name": "stderr",
     "output_type": "stream",
     "text": [
      "                                                                                \r"
     ]
    }
   ],
   "source": [
    "top_100_d = final_rides_df.groupBy(\"driver\").agg(F.avg(\"grade\").alias(\"avg_grade\")).orderBy(F.desc(\"avg_grade\"))\n",
    "top_100_d.show(100)"
   ]
  },
  {
   "cell_type": "markdown",
   "id": "115a98ea",
   "metadata": {},
   "source": [
    "### 2. Bad drivers"
   ]
  },
  {
   "cell_type": "code",
   "execution_count": 9,
   "id": "c1cae7e6",
   "metadata": {},
   "outputs": [
    {
     "name": "stderr",
     "output_type": "stream",
     "text": [
      "21/11/29 16:36:32 WARN TaskSetManager: Stage 16 contains a task of very large size (11334 KiB). The maximum recommended task size is 1000 KiB.\n",
      "[Stage 21:==========================================>             (12 + 4) / 16]\r"
     ]
    },
    {
     "name": "stdout",
     "output_type": "stream",
     "text": [
      "+-----------+------------------+\n",
      "|     driver|         avg_grade|\n",
      "+-----------+------------------+\n",
      "|      James|             2.025|\n",
      "|    Matthew|2.0227083333333336|\n",
      "|Christopher|1.9747916666666667|\n",
      "|    Michael|1.9889583333333334|\n",
      "|    Charles|             2.035|\n",
      "|       John|           2.00125|\n",
      "|    Richard|1.9958333333333333|\n",
      "|     Joseph| 2.020208333333333|\n",
      "|     Daniel|1.9958333333333333|\n",
      "|      David|          1.998125|\n",
      "|     Thomas|1.9889583333333334|\n",
      "|     Robert| 2.017708333333333|\n",
      "|    William|2.0004166666666667|\n",
      "|     Amanda|2.0239583333333333|\n",
      "|      Carol|          2.019375|\n",
      "|      Donna|2.0327083333333333|\n",
      "|    Melissa|1.9902083333333334|\n",
      "|    Deborah|2.0039583333333333|\n",
      "|   Michelle|1.9904166666666667|\n",
      "|   Margaret|2.0345833333333334|\n",
      "+-----------+------------------+\n",
      "only showing top 20 rows\n",
      "\n"
     ]
    },
    {
     "name": "stderr",
     "output_type": "stream",
     "text": [
      "                                                                                \r"
     ]
    }
   ],
   "source": [
    "bad_dudes = final_rides_df.groupBy(\"driver\").agg(F.avg(\"grade\").alias(\"avg_grade\")).filter(F.col(\"avg_grade\") < 3.5)\n",
    "bad_dudes.show()"
   ]
  },
  {
   "cell_type": "markdown",
   "id": "c24d5b50",
   "metadata": {},
   "source": [
    "### 3. Most riding time"
   ]
  },
  {
   "cell_type": "code",
   "execution_count": 11,
   "id": "5da96f96",
   "metadata": {},
   "outputs": [],
   "source": [
    "most_riding = final_rides_df.withColumn(\"date\", F.to_date(\"start_time\")) \\\n",
    "    .withColumn(\"time_str\", F.date_format('start_time', 'HH:mm:ss')) \\\n",
    "    .withColumn(\"time_by_0_ts\", F.expr(\"unix_timestamp(CONCAT('01-01-1970', time_str), 'MM-dd-yyyyHH:mm:ss')\")).select(\n",
    "    F.date_format(F.to_timestamp(F.avg(\"time_by_0_ts\")), 'HH:mm:ss').alias(\"avg_time\"))"
   ]
  },
  {
   "cell_type": "code",
   "execution_count": 12,
   "id": "ffdca773",
   "metadata": {},
   "outputs": [
    {
     "name": "stderr",
     "output_type": "stream",
     "text": [
      "21/11/29 16:40:53 WARN TaskSetManager: Stage 24 contains a task of very large size (11334 KiB). The maximum recommended task size is 1000 KiB.\n",
      "[Stage 29:=============================================>          (13 + 3) / 16]\r"
     ]
    },
    {
     "name": "stdout",
     "output_type": "stream",
     "text": [
      "+--------+\n",
      "|avg_time|\n",
      "+--------+\n",
      "|12:00:37|\n",
      "+--------+\n",
      "\n"
     ]
    },
    {
     "name": "stderr",
     "output_type": "stream",
     "text": [
      "                                                                                \r"
     ]
    }
   ],
   "source": [
    "most_riding.select(\"avg_time\").show()"
   ]
  },
  {
   "cell_type": "markdown",
   "id": "59d57b37",
   "metadata": {},
   "source": [
    "### 4. Top 50 clients"
   ]
  },
  {
   "cell_type": "code",
   "execution_count": 14,
   "id": "82dc576d",
   "metadata": {},
   "outputs": [],
   "source": [
    "top50_clients = final_rides_df.groupBy(\"client\").avg(\"to_client_grade\").orderBy(F.desc(\"avg(to_client_grade)\"))"
   ]
  },
  {
   "cell_type": "code",
   "execution_count": 15,
   "id": "898bacbf",
   "metadata": {},
   "outputs": [
    {
     "name": "stderr",
     "output_type": "stream",
     "text": [
      "21/11/29 16:45:39 WARN TaskSetManager: Stage 32 contains a task of very large size (11334 KiB). The maximum recommended task size is 1000 KiB.\n",
      "[Stage 37:===================================>                    (10 + 4) / 16]\r"
     ]
    },
    {
     "name": "stdout",
     "output_type": "stream",
     "text": [
      "+---------+--------------------+\n",
      "|   client|avg(to_client_grade)|\n",
      "+---------+--------------------+\n",
      "|  Rebecca|   2.036153846153846|\n",
      "|   George|  2.0332692307692306|\n",
      "|   Andrew|   2.026346153846154|\n",
      "|  Gregory|   2.026153846153846|\n",
      "| Benjamin|  2.0246153846153847|\n",
      "| Patricia|  2.0215384615384617|\n",
      "|    Helen|              2.0175|\n",
      "|   Sharon|  2.0171153846153844|\n",
      "|     Mark|   2.016346153846154|\n",
      "|  Jessica|   2.015769230769231|\n",
      "|   Dennis|  2.0151923076923075|\n",
      "|     Mary|  2.0136538461538462|\n",
      "|   Donald|  2.0136538461538462|\n",
      "|    Frank|  2.0103846153846154|\n",
      "|  Cynthia|  2.0073076923076925|\n",
      "|Elizabeth|   2.006346153846154|\n",
      "|  Brandon|   2.006346153846154|\n",
      "|    Sarah|   2.005576923076923|\n",
      "|Stephanie|  2.0048076923076925|\n",
      "|   Joshua|   2.004423076923077|\n",
      "+---------+--------------------+\n",
      "only showing top 20 rows\n",
      "\n"
     ]
    },
    {
     "name": "stderr",
     "output_type": "stream",
     "text": [
      "                                                                                \r"
     ]
    }
   ],
   "source": [
    "top50_clients.show()"
   ]
  },
  {
   "cell_type": "markdown",
   "id": "afda2131",
   "metadata": {},
   "source": [
    "### 5. Top 5 money makers"
   ]
  },
  {
   "cell_type": "code",
   "execution_count": 17,
   "id": "b8222724",
   "metadata": {},
   "outputs": [],
   "source": [
    "mn_mks = final_rides_df.groupBy(\"driver\").agg(F.sum(\"price\").alias(\"sum\")).orderBy(F.desc(\"sum\"))"
   ]
  },
  {
   "cell_type": "code",
   "execution_count": 18,
   "id": "794c25d1",
   "metadata": {},
   "outputs": [
    {
     "name": "stderr",
     "output_type": "stream",
     "text": [
      "21/11/29 16:49:53 WARN TaskSetManager: Stage 40 contains a task of very large size (11334 KiB). The maximum recommended task size is 1000 KiB.\n",
      "[Stage 44:===================================================>(3199 + 1) / 3200]\r"
     ]
    },
    {
     "name": "stdout",
     "output_type": "stream",
     "text": [
      "+-----------+-----------------+\n",
      "|     driver|              sum|\n",
      "+-----------+-----------------+\n",
      "|      James|943.1574232488217|\n",
      "|    Matthew|943.1574232488217|\n",
      "|Christopher|943.1574232488217|\n",
      "|    Michael|943.1574232488217|\n",
      "|    Charles|943.1574232488217|\n",
      "|       John|943.1574232488217|\n",
      "|    Richard|943.1574232488217|\n",
      "|     Joseph|943.1574232488217|\n",
      "|     Daniel|943.1574232488217|\n",
      "|      David|943.1574232488217|\n",
      "|     Thomas|943.1574232488217|\n",
      "|     Robert|943.1574232488217|\n",
      "|    William|943.1574232488217|\n",
      "|     Amanda|943.1574232488217|\n",
      "|      Carol|943.1574232488217|\n",
      "|      Donna|943.1574232488217|\n",
      "|    Melissa|943.1574232488217|\n",
      "|    Deborah|943.1574232488217|\n",
      "|   Michelle|943.1574232488217|\n",
      "|   Margaret|943.1574232488217|\n",
      "+-----------+-----------------+\n",
      "only showing top 20 rows\n",
      "\n"
     ]
    },
    {
     "name": "stderr",
     "output_type": "stream",
     "text": [
      "                                                                                \r"
     ]
    }
   ],
   "source": [
    "mn_mks.show()"
   ]
  },
  {
   "cell_type": "markdown",
   "id": "d5abf182",
   "metadata": {},
   "source": [
    "### 6. Night"
   ]
  },
  {
   "cell_type": "code",
   "execution_count": 24,
   "id": "dbc44f6a",
   "metadata": {},
   "outputs": [],
   "source": [
    "bat_guys = final_rides_df.withColumn(\"date\", F.to_date(\"start_time\")) \\\n",
    "    .withColumn(\"time_str\", F.date_format('start_time', 'HH:mm:ss')) \\\n",
    "    .withColumn(\"time_by_0_ts\", F.expr(\"unix_timestamp(CONCAT('01-01-1970', time_str), 'MM-dd-yyyyHH:mm:ss')\")) \\\n",
    "    .groupBy(\"driver\").agg(F.avg(\"time_by_0_ts\").alias(\"time_by_0_ts\")) \\\n",
    "    .filter(F.col(\"time_by_0_ts\").cast(T.IntegerType()) > 72e3) \\\n",
    "    .select(\"driver\", F.date_format(F.to_timestamp(\"time_by_0_ts\"), 'HH:mm:ss').alias(\"avg time\"))"
   ]
  },
  {
   "cell_type": "code",
   "execution_count": 25,
   "id": "12621b30",
   "metadata": {},
   "outputs": [
    {
     "name": "stderr",
     "output_type": "stream",
     "text": [
      "21/11/29 18:45:16 WARN TaskSetManager: Stage 54 contains a task of very large size (11334 KiB). The maximum recommended task size is 1000 KiB.\n",
      "[Stage 59:======================================>                 (11 + 4) / 16]\r"
     ]
    },
    {
     "name": "stdout",
     "output_type": "stream",
     "text": [
      "+------+--------+\n",
      "|driver|avg time|\n",
      "+------+--------+\n",
      "+------+--------+\n",
      "\n"
     ]
    },
    {
     "name": "stderr",
     "output_type": "stream",
     "text": [
      "                                                                                \r"
     ]
    }
   ],
   "source": [
    "bat_guys.show()"
   ]
  },
  {
   "cell_type": "markdown",
   "id": "f68092cf",
   "metadata": {},
   "source": [
    "### 7. Good guys"
   ]
  },
  {
   "cell_type": "code",
   "execution_count": 31,
   "id": "a4e00dcf",
   "metadata": {},
   "outputs": [],
   "source": [
    "best_guys = final_rides_df.filter(F.col(\"comment_type\") == \"compliment\").groupBy(\"driver\").agg(F.count(\"comment_type\").alias(\"compliment_num\"))"
   ]
  },
  {
   "cell_type": "code",
   "execution_count": 34,
   "id": "f69f5cff",
   "metadata": {},
   "outputs": [
    {
     "name": "stderr",
     "output_type": "stream",
     "text": [
      "21/11/29 19:08:34 WARN TaskSetManager: Stage 86 contains a task of very large size (11334 KiB). The maximum recommended task size is 1000 KiB.\n",
      "[Stage 91:=============================================>          (13 + 3) / 16]\r"
     ]
    },
    {
     "name": "stdout",
     "output_type": "stream",
     "text": [
      "+---------+--------------+\n",
      "|   driver|compliment_num|\n",
      "+---------+--------------+\n",
      "| Margaret|          2487|\n",
      "|    Debra|          2487|\n",
      "| Kimberly|          2470|\n",
      "|  Richard|          2461|\n",
      "|    Jason|          2448|\n",
      "|     Emma|          2440|\n",
      "|     Eric|          2439|\n",
      "|   Daniel|          2438|\n",
      "|Catherine|          2438|\n",
      "| Jonathan|          2434|\n",
      "|  Timothy|          2429|\n",
      "|   Ashley|          2429|\n",
      "| Nicholas|          2424|\n",
      "| Samantha|          2417|\n",
      "|    Betty|          2417|\n",
      "|   Pamela|          2416|\n",
      "|     John|          2415|\n",
      "|  Jeffrey|          2411|\n",
      "|   Ronald|          2410|\n",
      "|Katherine|          2409|\n",
      "+---------+--------------+\n",
      "only showing top 20 rows\n",
      "\n"
     ]
    },
    {
     "name": "stderr",
     "output_type": "stream",
     "text": [
      "                                                                                \r"
     ]
    }
   ],
   "source": [
    "best_guys.orderBy(F.desc(\"compliment_num\")).show()"
   ]
  },
  {
   "cell_type": "markdown",
   "id": "2858e8df",
   "metadata": {},
   "source": [
    "### 8. Bad bad guys"
   ]
  },
  {
   "cell_type": "code",
   "execution_count": 32,
   "id": "01845568",
   "metadata": {},
   "outputs": [],
   "source": [
    "\n",
    "jerks = final_rides_df.filter(F.col(\"comment_type\") != \"compliment\").groupBy(\"driver\").agg(F.count(\"comment_type\").alias(\"complient_num\"))"
   ]
  },
  {
   "cell_type": "code",
   "execution_count": 33,
   "id": "f65d11a5",
   "metadata": {},
   "outputs": [
    {
     "name": "stderr",
     "output_type": "stream",
     "text": [
      "21/11/29 19:03:31 WARN TaskSetManager: Stage 78 contains a task of very large size (11334 KiB). The maximum recommended task size is 1000 KiB.\n",
      "[Stage 83:================================>                        (9 + 4) / 16]\r"
     ]
    },
    {
     "name": "stdout",
     "output_type": "stream",
     "text": [
      "+-----------+-------------+\n",
      "|     driver|complient_num|\n",
      "+-----------+-------------+\n",
      "|      James|         2443|\n",
      "|    Matthew|         2394|\n",
      "|Christopher|         2407|\n",
      "|    Michael|         2446|\n",
      "|    Charles|         2452|\n",
      "|       John|         2385|\n",
      "|    Richard|         2339|\n",
      "|     Joseph|         2407|\n",
      "|     Daniel|         2362|\n",
      "|      David|         2411|\n",
      "|     Thomas|         2441|\n",
      "|     Robert|         2424|\n",
      "|    William|         2416|\n",
      "|     Amanda|         2423|\n",
      "|      Carol|         2420|\n",
      "|      Donna|         2415|\n",
      "|    Melissa|         2434|\n",
      "|    Deborah|         2396|\n",
      "|   Michelle|         2392|\n",
      "|   Margaret|         2313|\n",
      "+-----------+-------------+\n",
      "only showing top 20 rows\n",
      "\n"
     ]
    },
    {
     "name": "stderr",
     "output_type": "stream",
     "text": [
      "                                                                                \r"
     ]
    }
   ],
   "source": [
    "jerks.show()"
   ]
  },
  {
   "cell_type": "markdown",
   "id": "7aea8de9",
   "metadata": {},
   "source": [
    "### 9. Longest names"
   ]
  },
  {
   "cell_type": "code",
   "execution_count": 39,
   "id": "6f9a9106",
   "metadata": {},
   "outputs": [],
   "source": [
    "longest = final_rides_df.select(\"driver\", F.length(\"driver\").alias(\"length\")).distinct().orderBy(F.desc(\"length\"))"
   ]
  },
  {
   "cell_type": "code",
   "execution_count": 40,
   "id": "0e3c68a3",
   "metadata": {},
   "outputs": [
    {
     "name": "stderr",
     "output_type": "stream",
     "text": [
      "21/11/29 19:40:26 WARN TaskSetManager: Stage 100 contains a task of very large size (11334 KiB). The maximum recommended task size is 1000 KiB.\n",
      "                                                                                \r"
     ]
    },
    {
     "name": "stdout",
     "output_type": "stream",
     "text": [
      "+-----------+------+\n",
      "|     driver|length|\n",
      "+-----------+------+\n",
      "|Christopher|    11|\n",
      "|  Christine|     9|\n",
      "|  Catherine|     9|\n",
      "|  Katherine|     9|\n",
      "|   Michelle|     8|\n",
      "|   Samantha|     8|\n",
      "|   Kimberly|     8|\n",
      "|   Margaret|     8|\n",
      "|   Nicholas|     8|\n",
      "|   Jonathan|     8|\n",
      "|    Deborah|     7|\n",
      "|    Dorothy|     7|\n",
      "|    Melissa|     7|\n",
      "|    William|     7|\n",
      "|    Charles|     7|\n",
      "|    Matthew|     7|\n",
      "|    Michael|     7|\n",
      "|    Stephen|     7|\n",
      "|    Timothy|     7|\n",
      "|    Richard|     7|\n",
      "+-----------+------+\n",
      "only showing top 20 rows\n",
      "\n"
     ]
    },
    {
     "name": "stderr",
     "output_type": "stream",
     "text": [
      "                                                                                \r"
     ]
    }
   ],
   "source": [
    "longest.show()"
   ]
  },
  {
   "cell_type": "code",
   "execution_count": null,
   "id": "0832b723",
   "metadata": {},
   "outputs": [],
   "source": []
  }
 ],
 "metadata": {
  "kernelspec": {
   "display_name": "Python 3 (ipykernel)",
   "language": "python",
   "name": "python3"
  },
  "language_info": {
   "codemirror_mode": {
    "name": "ipython",
    "version": 3
   },
   "file_extension": ".py",
   "mimetype": "text/x-python",
   "name": "python",
   "nbconvert_exporter": "python",
   "pygments_lexer": "ipython3",
   "version": "3.9.7"
  }
 },
 "nbformat": 4,
 "nbformat_minor": 5
}
